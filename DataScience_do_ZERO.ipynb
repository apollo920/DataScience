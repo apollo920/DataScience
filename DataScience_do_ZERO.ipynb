{
  "cells": [
    {
      "cell_type": "markdown",
      "metadata": {
        "id": "rzYcmO_FKVWt"
      },
      "source": [
        "##CAPÍTULO 1 - Introdução\n",
        "\n"
      ]
    },
    {
      "cell_type": "code",
      "execution_count": 1,
      "metadata": {
        "id": "Y_6Jm53JKe3D"
      },
      "outputs": [],
      "source": [
        "# Dicionário dos funcionarios da empresa DataSciencester\n",
        "\n",
        "users = [\n",
        "    {\"id\" : 0, \"name\" : \"Hero\"},\n",
        "    {\"id\" : 1, \"name\" : \"Dunn\"},\n",
        "    {\"id\" : 2, \"name\" : \"Sue\"},\n",
        "    {\"id\" : 3, \"name\" : \"Chi\"},\n",
        "    {\"id\" : 4, \"name\" : \"Thor\"},\n",
        "    {\"id\" : 5, \"name\" : \"Clive\"},\n",
        "    {\"id\" : 6, \"name\" : \"Hicks\"},\n",
        "    {\"id\" : 7, \"name\" : \"Devin\"},\n",
        "    {\"id\" : 8, \"name\" : \"Kate\"},\n",
        "    {\"id\" : 9, \"name\" : \"Klein\"},\n",
        "]\n",
        "\n",
        "# Lista de Amizades dos funcionários\n",
        "\n",
        "friendship_pairs = [\n",
        "    (0,1), (0,2),(1,2), (1,3), (2,3), (3,4),\n",
        "    (4,5), (5,6), (5,7), (6,8), (7,8), (9,8)\n",
        "]"
      ]
    },
    {
      "cell_type": "code",
      "execution_count": 2,
      "metadata": {
        "id": "JVt5NxXnMiUv"
      },
      "outputs": [],
      "source": [
        "# Inicializando um dict com uma lista vazia para cada id de usuário:\n",
        "friendships = {user[\"id\"] : [] for user in users}\n",
        "\n",
        "# Executar um loop pelos pares de amigos para preenchê-la:\n",
        "\n",
        "for i, j in friendship_pairs:\n",
        "  friendships[i].append(j) #adicionando J como amigo do usuário I\n",
        "  friendships[j].append(i) #adicionando I como amigo do usuário J\n",
        "\n",
        "#  print(friendships)"
      ]
    },
    {
      "cell_type": "code",
      "execution_count": 3,
      "metadata": {
        "id": "42YO6VcwPqKF"
      },
      "outputs": [],
      "source": [
        "# Numero total de conexões somando o tatal de amigos de cada user\n",
        "\n",
        "def number_of_friends(user):\n",
        "  \"\"\"Quantos amigos tem o _users_?\"\"\"\n",
        "  user_id = user[\"id\"]\n",
        "  friend_ids = friendships[user_id]\n",
        "  return len(friend_ids)\n",
        "\n",
        "total_connections = sum(number_of_friends(user) for user in users)\n",
        "#print(total_connections)\n",
        "\n",
        "#Em seguida basta dividir pelo número total de usuários:\n",
        "num_users = len(users)\n",
        "avg_connections = total_connections / num_users\n",
        "# print(avg_connections)"
      ]
    },
    {
      "cell_type": "code",
      "execution_count": 4,
      "metadata": {
        "id": "TZSnqzF1Sj8r"
      },
      "outputs": [],
      "source": [
        "# Ordenando os usuários que possuem mais amigos para os que possuem menos amigos\n",
        "\n",
        "num_friends_by_id = [(user[\"id\"], number_of_friends(user)) for user in users]\n",
        "\n",
        "num_friends_by_id.sort(                            #classifique a lista\n",
        "    key=lambda id_and_friends: id_and_friends[1],  #por num_friends\n",
        "    reverse=True                                   #do maior para o menor\n",
        ")"
      ]
    },
    {
      "cell_type": "code",
      "execution_count": 5,
      "metadata": {
        "id": "yEq149UzUBfv"
      },
      "outputs": [],
      "source": [
        "# Nova pesquisa \"Cientista de Dados que talvez você conheça\"\n",
        "# Vamos iterar os amigos e coletar os amigos dos amigos\n",
        "def foaf_ids_bad(user):\n",
        "  \"\"\"foaf significa \"friend of a friend\" \"\"\"\n",
        "  return[foaf_id\n",
        "         for friend_id in friendships[user[\"id\"]]\n",
        "         for foaf_id in friendships[friend_id]\n",
        "         ]\n",
        "#print(foaf_ids_bad(users[0]))"
      ]
    },
    {
      "cell_type": "code",
      "execution_count": 6,
      "metadata": {
        "id": "Xib9PV5kVtdd"
      },
      "outputs": [],
      "source": [
        "# Vamos fazer uma contagem de amigos em comum, porém excluindo as pessoas que o usuário ja conhece:\n",
        "from collections import Counter\n",
        "def friends_of_friends(user):\n",
        "  user_id = user[\"id\"]\n",
        "  return Counter(\n",
        "      foaf_id\n",
        "      for friend_id in friendships[user_id]    # para cada amigo meu\n",
        "      for foaf_id in friendships[user_id]      # para cada amigo de um amigo meu\n",
        "      if foaf_id != user_id                    # que não seja eu\n",
        "      and foaf_id not in friendships[user_id]  # e não sejam meus amigos\n",
        "    )\n",
        "\n",
        "# print(friends_of_friends(users[3]))"
      ]
    },
    {
      "cell_type": "code",
      "execution_count": 26,
      "metadata": {
        "id": "07oYMBzgtwZq"
      },
      "outputs": [],
      "source": [
        "# lista de interesses de cada usuário\n",
        "\n",
        "interests = [\n",
        "    (0, \"Hadoop\"), (0, \"Big Data\"), (0,\"HBase\"), (0,\"Java\"),\n",
        "    (0, \"Spark\"), (0, \"Storm\"), (0, \"Cassandra\"),\n",
        "    (1, \"NoSQL\"), (1, \"MongoDB\"), (1, \"Cassandra\"), (1, \"HBase\"),\n",
        "    (1,\"Postgres\"),(2, \"python\"),  (2, \"scikit-learn\"), (2, \"scipy\"),\n",
        "    (2, \"numpy\"), (2, \"statsmodels\"), (2, \"pandas\"), (3, \"R\"), (3, \"python\"),\n",
        "    (3, \"statistics\"), (3, \"regression\"), (4, \"probability\"),\n",
        "    (4, \"machine learning\"), (4, \"regression\"), (4, \"decision trees\"),\n",
        "    (4, \"libsvm\"), (5, \"python\"), (5, \"R\"), (5, \"Java\"), (5, \"C++\"),\n",
        "    (5, \"Haskell\"), (5, \"programming languages\"), (6, \"statistics\"),\n",
        "    (6, \"probability\"), (6, \"mathematics\"), (6, \"theory\"),\n",
        "    (7, \"machine learning\"), (7, \"sckikit-learn\"), (7, \"Mahout\"),\n",
        "    (7, \"neural networks\"), (8, \"neural networks\"), (8, \"deep learning\"),\n",
        "    (8, \"Big Data\"), (8, \"artificial intelligence\"), (9, \"Hadoop\"),\n",
        "    (9, \"Java\"), (9, \"MapReduce\"), (9, \"Big Data\")\n",
        "]"
      ]
    },
    {
      "cell_type": "code",
      "execution_count": 8,
      "metadata": {
        "id": "iGIUpkt_xPAz"
      },
      "outputs": [],
      "source": [
        "# construindo uma função para ter cientistas de dados com interesses em comum\n",
        "\n",
        "def data_scientists_who_like(target_interest):\n",
        "  \"\"\"Encontre os ids dos usuários com o mesmo interesse\"\"\"\n",
        "  return [\n",
        "      user_id\n",
        "      for user_id, user_interests in interests\n",
        "      if user_interests == target_interest\n",
        "      ]\n",
        "\n",
        "# isto funciona, porém tem que examinar a lista inteira a cada busca. Vamos fazer um dicionário que a chave seja o interesse e o valor os user_id que possuem esse interesse\n",
        "from collections import defaultdict\n",
        "user_ids_by_interests = defaultdict(list) # = {interest: [] for user_id, interest in interests} OUTRA FORMA DE FAZER\n",
        "\n",
        "# as chaves são interesses e os valores é uma lista dos usuários que tem o mesmo interesse\n",
        "for user_id, interest in interests:\n",
        "  user_ids_by_interests[interest].append(user_id)\n",
        "\n",
        "# print(user_ids_by_interests)\n",
        "\n",
        "# Neste caso temos o o user_id sendo a chave do dicionário e o valor sendo uma lista de interesses de cada usuário\n",
        "interest_by_user_id = defaultdict(list)\n",
        "\n",
        "for user_id, interest in interests:\n",
        "  interest_by_user_id[user_id].append(interest)\n",
        "\n",
        "# print(interest_by_user_id)"
      ]
    },
    {
      "cell_type": "code",
      "execution_count": 9,
      "metadata": {
        "id": "Dn78tE5U0W3L"
      },
      "outputs": [],
      "source": [
        "#usuários com interesses em comum\n",
        "def most_common_interests_with(user):\n",
        "  return Counter(\n",
        "      interest_user_id\n",
        "      for interest in interest_by_user_id[user[\"id\"]]\n",
        "      for interest_user_id in user_ids_by_interests[interest]\n",
        "      if interest_user_id != user[\"id\"]\n",
        "  )"
      ]
    },
    {
      "cell_type": "code",
      "execution_count": 10,
      "metadata": {
        "colab": {
          "base_uri": "https://localhost:8080/"
        },
        "id": "_vA45HSD4qCc",
        "outputId": "3161dc68-53e1-4b85-f154-7654450bec76"
      },
      "outputs": [
        {
          "name": "stdout",
          "output_type": "stream",
          "text": [
            "{8.7: [83000], 8.1: [88000], 0.7: [48000], 6: [76000], 6.5: [69000], 2.5: [60000], 1.9: [48000], 4.2: [63000]}\n"
          ]
        }
      ],
      "source": [
        "# Salários e Experiência\n",
        "# lista de salários e experiêcia dos funcionários\n",
        "salaries_and_tenures = [(83000, 8.7), (88000, 8.1),\n",
        "                        (48000, 0.7), (76000, 6),\n",
        "                        (69000, 6.5), (60000, 2.5),\n",
        "                        (48000, 1.9), (63000, 4.2)]\n",
        "# as chaves são anos de experiência e o valor é uma lista de salários que aquela experiência possui\n",
        "salary_by_tenure = {tenure:[] for salary, tenure in salaries_and_tenures} # = defaultdict(list)\n",
        "for salary, tenure in salaries_and_tenures:\n",
        "  salary_by_tenure[tenure].append(salary)\n",
        "\n",
        "print(salary_by_tenure)\n",
        "\n",
        "# as chaves são anos de experiencia e o valor é o salário médio associado ao ano de experiência\n",
        "average_salary_by_tenure = {tenure: sum(salaries) / len(salaries) for tenures, salaries in salary_by_tenure.items()}\n"
      ]
    },
    {
      "cell_type": "code",
      "execution_count": 14,
      "metadata": {
        "colab": {
          "base_uri": "https://localhost:8080/"
        },
        "id": "4gy2Zo6WYhL6",
        "outputId": "2d9b1026-f6e3-4853-9625-545c89ee0c50"
      },
      "outputs": [],
      "source": [
        "# fazendo buckets de experiência\n",
        "\n",
        "def tenure_bucket(tenure):\n",
        "  if tenure < 2 :\n",
        "    return \"less than two\"\n",
        "  elif tenure < 5 :\n",
        "    return \"between two and five\"\n",
        "  else:\n",
        "    return \"more than five\"\n",
        "\n",
        "# chaves são buckets de anos de experiência e os valores são lista de salários associado aos buckets\n",
        "\n",
        "salary_by_tenure_bucket = defaultdict(list)\n",
        "for salary, tenure in salaries_and_tenures:\n",
        "  bucket = tenure_bucket(tenure)\n",
        "  salary_by_tenure_bucket[bucket].append(salary)\n",
        "\n",
        "#print(salary_by_tenure_bucket)\n",
        "\n",
        "# chaves são buckets de anos de experiência e os valores são media de salários por ano de experiência\n",
        "average_salary_by_bucket = {tenure_bucket: sum(salaries) / len(salaries) for tenure_bucket, salaries in salary_by_tenure_bucket.items()}\n",
        "\n",
        "#print(average_salary_by_bucket)"
      ]
    },
    {
      "cell_type": "code",
      "execution_count": 27,
      "metadata": {},
      "outputs": [
        {
          "name": "stdout",
          "output_type": "stream",
          "text": [
            "big 3\n",
            "data 3\n",
            "java 3\n",
            "python 3\n",
            "learning 3\n",
            "hadoop 2\n",
            "hbase 2\n",
            "cassandra 2\n",
            "r 2\n",
            "statistics 2\n",
            "regression 2\n",
            "probability 2\n",
            "machine 2\n",
            "neural 2\n",
            "networks 2\n"
          ]
        }
      ],
      "source": [
        "# Tópicos de mais Interesse de cada usuário \n",
        "# dados brutos é o dicionário interests\n",
        "\n",
        "# 1. Escrever os nomes de usuário em letra minúsculas \n",
        "# 2. Divida-os em palavras \n",
        "# 3. Conte os resultados \n",
        "\n",
        "words_and_counts = Counter(word for user, interest in interests for word in interest.lower().split())\n",
        "\n",
        "# Listagem de palavras que ocorrem mais de uma vez \n",
        "\n",
        "for word, count in words_and_counts.most_common(): \n",
        "    if count > 1: \n",
        "        print(word,count)"
      ]
    }
  ],
  "metadata": {
    "colab": {
      "provenance": []
    },
    "kernelspec": {
      "display_name": "Python 3",
      "name": "python3"
    },
    "language_info": {
      "codemirror_mode": {
        "name": "ipython",
        "version": 3
      },
      "file_extension": ".py",
      "mimetype": "text/x-python",
      "name": "python",
      "nbconvert_exporter": "python",
      "pygments_lexer": "ipython3",
      "version": "3.12.9"
    }
  },
  "nbformat": 4,
  "nbformat_minor": 0
}
